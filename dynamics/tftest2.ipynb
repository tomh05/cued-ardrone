{
 "metadata": {
  "name": "tftest2"
 }, 
 "nbformat": 2, 
 "worksheets": [
  {
   "cells": [
    {
     "cell_type": "code", 
     "collapsed": true, 
     "input": [
      "import rospy", 
      "import roslib", 
      "roslib.load_manifest('tf')", 
      "import tf", 
      "import numpy", 
      "from math import pi, cos, sin", 
      "from time import sleep"
     ], 
     "language": "python", 
     "outputs": [], 
     "prompt_number": 77
    }, 
    {
     "cell_type": "code", 
     "collapsed": true, 
     "input": [
      "rospy.init_node('transformtest')"
     ], 
     "language": "python", 
     "outputs": [], 
     "prompt_number": 78
    }, 
    {
     "cell_type": "code", 
     "collapsed": true, 
     "input": [
      "tl=tf.TransformListener()"
     ], 
     "language": "python", 
     "outputs": [], 
     "prompt_number": 79
    }, 
    {
     "cell_type": "code", 
     "collapsed": true, 
     "input": [
      "q = tf.transformations.random_quaternion()", 
      "q[3]*q[3]+q[1]*q[1]+q[2]*q[2]+q[0]*q[0]"
     ], 
     "language": "python", 
     "outputs": [], 
     "prompt_number": 106
    }, 
    {
     "cell_type": "code", 
     "collapsed": true, 
     "input": [
      "br=tf.TransformBroadcaster()", 
      "tl=tf.TransformListener()"
     ], 
     "language": "python", 
     "outputs": [], 
     "prompt_number": 107
    }, 
    {
     "cell_type": "code", 
     "collapsed": true, 
     "input": [
      "quartmw=tf.transformations.quaternion_from_euler(-pi/2,0,0)", 
      "quartwm=tf.transformations.quaternion_from_euler(pi/2,0,0)"
     ], 
     "language": "python", 
     "outputs": [], 
     "prompt_number": 111
    }, 
    {
     "cell_type": "code", 
     "collapsed": false, 
     "input": [
      "for i in range(15*1):", 
      "    br.sendTransform((0.0,0.0,1.0),quartmw,rospy.Time.now(),'world','/4x4_79')", 
      "    sleep(1.0/15)", 
      "    (trans, rotmd)=tl.lookupTransform('/4x4_79','/ardrone_base_link',rospy.Time(0))", 
      "    sleep(1.0/15)", 
      "    (trans0, rotwd)=tl.lookupTransform('world','/ardrone_base_link',rospy.Time(0))", 
      "    calcwd=tf.transformations.quaternion_multiply(quartwm,rotmd)", 
      "    print calcwd-rotwd", 
      "    print numpy.allclose(rotwd, calcwd, 1e-2)"
     ], 
     "language": "python", 
     "outputs": [], 
     "prompt_number": 134
    }, 
    {
     "cell_type": "code", 
     "collapsed": false, 
     "input": [
      "quartmw, quartwm"
     ], 
     "language": "python", 
     "outputs": [], 
     "prompt_number": 126
    }, 
    {
     "cell_type": "code", 
     "collapsed": true, 
     "input": [
      "numpy.allclose?"
     ], 
     "language": "python", 
     "outputs": [], 
     "prompt_number": 122
    }, 
    {
     "cell_type": "code", 
     "collapsed": true, 
     "input": [], 
     "language": "python", 
     "outputs": []
    }
   ]
  }
 ]
}