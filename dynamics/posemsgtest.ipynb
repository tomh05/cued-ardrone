{
 "metadata": {
  "name": "posemsgtest"
 }, 
 "nbformat": 2, 
 "worksheets": [
  {
   "cells": [
    {
     "cell_type": "code", 
     "collapsed": false, 
     "input": [
      "import rospy", 
      "import roslib", 
      "roslib.load_manifest('dynamics')", 
      "import tf", 
      "import numpy", 
      "from math import pi, cos, sin", 
      "from time import sleep", 
      "from dynamics.msg import ARMarkers"
     ], 
     "language": "python", 
     "outputs": [], 
     "prompt_number": 6
    }, 
    {
     "cell_type": "code", 
     "collapsed": true, 
     "input": [
      "rospy.init_node('posemsgtest')"
     ], 
     "language": "python", 
     "outputs": [], 
     "prompt_number": 7
    }, 
    {
     "cell_type": "code", 
     "collapsed": true, 
     "input": [], 
     "language": "python", 
     "outputs": []
    }
   ]
  }
 ]
}