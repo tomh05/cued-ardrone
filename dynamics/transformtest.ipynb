{
 "metadata": {
  "name": "transformtest"
 }, 
 "nbformat": 2, 
 "worksheets": [
  {
   "cells": [
    {
     "cell_type": "code", 
     "collapsed": true, 
     "input": [
      "import rospy", 
      "import roslib", 
      "roslib.load_manifest('tf')", 
      "import tf"
     ], 
     "language": "python", 
     "outputs": [], 
     "prompt_number": 4
    }, 
    {
     "cell_type": "code", 
     "collapsed": true, 
     "input": [
      "rospy.init_node('transformtest')"
     ], 
     "language": "python", 
     "outputs": [], 
     "prompt_number": 8
    }, 
    {
     "cell_type": "code", 
     "collapsed": true, 
     "input": [
      "tl=tf.TransformListener()"
     ], 
     "language": "python", 
     "outputs": [], 
     "prompt_number": 9
    }, 
    {
     "cell_type": "code", 
     "collapsed": false, 
     "input": [
      "t0=rospy.Time.now()", 
      "i=0", 
      "while (rospy.Time.now()-t0<rospy.Duration(1)):", 
      "    print 'i=%d'%i", 
      "    try:", 
      "        if (tl.frameExists('/4x4_100') and tl.canTransform('/4x4_100','/ardrone_base_link', rospy.Time(0))):", 
      "            pose = tl.lookupTransform('/4x4_100','/ardrone_base_link', rospy.Time(0))", 
      "            print pose[0]", 
      "            print pose[1]", 
      "            print tf.transformations.euler_from_quaternion(pose[1])", 
      "            ", 
      "        else:", 
      "            print 'cannot transform'", 
      "    except:", 
      "        print 'exception'", 
      "    i=i+1"
     ], 
     "language": "python", 
     "outputs": [], 
     "prompt_number": 42
    }, 
    {
     "cell_type": "code", 
     "collapsed": true, 
     "input": [], 
     "language": "python", 
     "outputs": [], 
     "prompt_number": 37
    }, 
    {
     "cell_type": "code", 
     "collapsed": true, 
     "input": [], 
     "language": "python", 
     "outputs": []
    }
   ]
  }
 ]
}