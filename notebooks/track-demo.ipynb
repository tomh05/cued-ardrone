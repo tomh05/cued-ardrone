{
 "metadata": {
  "name": "track-demo"
 }, 
 "name": "track-demo", 
 "nbformat": 2, 
 "worksheets": [
  {
   "cells": [
    {
     "cell_type": "markdown", 
     "source": "# Detect features\n\nFirstly, load OpenCV\n\n$$ x = \\frac{x}{\\sin(x)} + \\int_0^{2\\pi} \\psi(t) dt $$"
    }, 
    {
     "cell_type": "code", 
     "collapsed": true, 
     "input": "import cv2\nimport cv", 
     "language": "python", 
     "outputs": [], 
     "prompt_number": 32
    }, 
    {
     "cell_type": "code", 
     "collapsed": true, 
     "input": "img1 = cv2.imread('/home/alex/bags/103.jpg')\nimg2 = cv2.imread('/home/alex/bags/104.jpg')", 
     "language": "python", 
     "outputs": [], 
     "prompt_number": 33
    }, 
    {
     "cell_type": "code", 
     "collapsed": false, 
     "input": "i1 = cv2.cvtColor(img1, cv2.COLOR_BGR2GRAY)\ni2 = cv2.cvtColor(img2, cv2.COLOR_BGR2GRAY)", 
     "language": "python", 
     "outputs": [], 
     "prompt_number": 34
    }, 
    {
     "cell_type": "code", 
     "collapsed": true, 
     "input": "fd = cv2.FeatureDetector_create('SIFT')", 
     "language": "python", 
     "outputs": [], 
     "prompt_number": 35
    }, 
    {
     "cell_type": "code", 
     "collapsed": false, 
     "input": "pts1 = fd.detect(i1)\npts2 = fd.detect(i2)", 
     "language": "python", 
     "outputs": [], 
     "prompt_number": 36
    }, 
    {
     "cell_type": "code", 
     "collapsed": true, 
     "input": "de = cv2.DescriptorExtractor_create('SIFT')", 
     "language": "python", 
     "outputs": [], 
     "prompt_number": 43
    }, 
    {
     "cell_type": "code", 
     "collapsed": false, 
     "input": "kp1, desc1 = de.compute(i1, pts1)\nkp2, desc2 = de.compute(i2, pts2)", 
     "language": "python", 
     "outputs": [], 
     "prompt_number": 46
    }, 
    {
     "cell_type": "code", 
     "collapsed": true, 
     "input": "dm = cv2.DescriptorMatcher_create('BruteForce')", 
     "language": "python", 
     "outputs": [], 
     "prompt_number": 51
    }, 
    {
     "cell_type": "code", 
     "collapsed": false, 
     "input": "matches = dm.match(desc1, desc2)", 
     "language": "python", 
     "outputs": [], 
     "prompt_number": 53
    }, 
    {
     "cell_type": "code", 
     "collapsed": true, 
     "input": "i1_indices = list(x.queryIdx for x in matches)\ni2_indices = list(x.trainIdx for x in matches)", 
     "language": "python", 
     "outputs": [], 
     "prompt_number": 56
    }, 
    {
     "cell_type": "code", 
     "collapsed": false, 
     "input": "kp1_array = np.array(list(x.pt for x in kp1))\nkp2_array = np.array(list(x.pt for x in kp2))\n\ni1_pts = kp1_array[i1_indices,:]\ni2_pts = kp2_array[i2_indices,:]", 
     "language": "python", 
     "outputs": [], 
     "prompt_number": 61
    }, 
    {
     "cell_type": "code", 
     "collapsed": false, 
     "input": "clf()\nimshow(np.vstack((i1, i2)), cmap='gray')\nimh = i1.shape[0]\nfor p1, p2 in zip(i1_pts, i2_pts):\n    plot([p1[0], p2[0]], [p1[1], p2[1] + imh])\naxis('image')", 
     "language": "python", 
     "outputs": [
      {
       "output_type": "pyout", 
       "prompt_number": 67, 
       "text": "(-0.5, 639.5, 719.5, -0.5)"
      }
     ], 
     "prompt_number": 67
    }, 
    {
     "cell_type": "code", 
     "collapsed": false, 
     "input": "H, mask = cv2.findHomography(i1_pts, i2_pts, cv2.RANSAC)", 
     "language": "python", 
     "outputs": [], 
     "prompt_number": 71
    }, 
    {
     "cell_type": "code", 
     "collapsed": false, 
     "input": "ml = list(mask.flat)", 
     "language": "python", 
     "outputs": [], 
     "prompt_number": 84
    }, 
    {
     "cell_type": "code", 
     "collapsed": false, 
     "input": "clf()\nimshow(np.vstack((i1, i2)), cmap='gray')\nimh = i1.shape[0]\nidx = 0\nfor p1, p2 in zip(i1_pts, i2_pts):\n    idx += 1\n    if ml[idx - 1] == 0:\n        continue\n    plot([p1[0], p2[0]], [p1[1], p2[1] + imh])\n\naxis('image')", 
     "language": "python", 
     "outputs": [
      {
       "output_type": "pyout", 
       "prompt_number": 88, 
       "text": "(-0.5, 639.5, 719.5, -0.5)"
      }
     ], 
     "prompt_number": 88
    }, 
    {
     "cell_type": "code", 
     "collapsed": false, 
     "input": "points1 = np.array(list(x.pt for x in kp1))\npoints2 = np.array(list(x.pt for x in kp2))", 
     "language": "python", 
     "outputs": [], 
     "prompt_number": 49
    }, 
    {
     "cell_type": "code", 
     "collapsed": false, 
     "input": "clf()\n#imshow(grey, cmap='gray')\nimshow(np.vstack((i1, i2)))\nplot(points1[:,0], points1[:,1], 'xr')\nplot(points2[:,0], points2[:,1], 'xb')\naxis('image')", 
     "language": "python", 
     "outputs": [
      {
       "output_type": "pyout", 
       "prompt_number": 50, 
       "text": "(5.7200784683227539, 633.29345703125, 4.9844107627868652, 347.35214233398438)"
      }
     ], 
     "prompt_number": 50
    }, 
    {
     "cell_type": "code", 
     "collapsed": false, 
     "input": "imshow(np.vstack((img1, img2)))", 
     "language": "python", 
     "outputs": [
      {
       "output_type": "pyout", 
       "prompt_number": 64, 
       "text": "<matplotlib.image.AxesImage at 0x5dd7510>"
      }
     ], 
     "prompt_number": 64
    }, 
    {
     "cell_type": "code", 
     "collapsed": false, 
     "input": "class Memoriser:\n    def __init__(self):\n        self.previous = None\n    \n    def new_thing(self, thing):\n        print('Now: %s' % (thing,))\n        print('Previous: %s' % (self.previous))\n        self.previous = thing\n        \n\nm = Memoriser()\nm.new_thing('hello')\nm.new_thing(3)\nm.new_thing(67)", 
     "language": "python", 
     "outputs": [
      {
       "output_type": "stream", 
       "stream": "stdout", 
       "text": "Now: hello\nPrevious: None\nNow: 3\nPrevious: hello\nNow: 67\nPrevious: 3"
      }
     ], 
     "prompt_number": 89
    }, 
    {
     "cell_type": "code", 
     "collapsed": true, 
     "input": "f = m.new_thing", 
     "language": "python", 
     "outputs": [], 
     "prompt_number": 90
    }, 
    {
     "cell_type": "code", 
     "collapsed": false, 
     "input": "f(5)", 
     "language": "python", 
     "outputs": [
      {
       "output_type": "stream", 
       "stream": "stdout", 
       "text": "Now: 5\nPrevious: 67"
      }
     ], 
     "prompt_number": 91
    }, 
    {
     "cell_type": "code", 
     "collapsed": true, 
     "input": "", 
     "language": "python", 
     "outputs": []
    }
   ]
  }
 ]
}