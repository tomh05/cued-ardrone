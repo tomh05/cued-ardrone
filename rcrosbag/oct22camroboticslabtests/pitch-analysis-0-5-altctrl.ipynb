{
 "metadata": {
  "name": "pitch-analysis-0-5-altctrl"
 }, 
 "nbformat": 2, 
 "worksheets": [
  {
   "cells": [
    {
     "cell_type": "code", 
     "collapsed": false, 
     "input": [
      "import roslib; roslib.load_manifest('dynamics')", 
      "import rospy", 
      "", 
      "from dynamics.msg import Navdata", 
      "from dynamics.srv import CamSelect", 
      "from geometry_msgs.msg import Twist", 
      "from std_msgs.msg import Empty, UInt8", 
      "", 
      "from time import time, sleep", 
      "import sys", 
      "from numpy import pi", 
      "", 
      "import pickle", 
      "fp = open('pitch_0_3_multmarkers_altctrl.pkl','r')", 
      "rda=pickle.load(fp)", 
      "fp.close()", 
      "", 
      "import pylab as pl", 
      "pl.plot(rda[0]['tm'], rda[0]['vx']); pl.grid(True)", 
      "pl.show()", 
      "", 
      "#rda[1]['tm'][-1]", 
      "#rda[0]['tm']", 
      "print len(rda[0]['tm'])", 
      "print len(rda[0]['vx'])"
     ], 
     "language": "python", 
     "outputs": [
      {
       "output_type": "stream", 
       "stream": "stdout", 
       "text": [
        "209", 
        "209"
       ]
      }
     ], 
     "prompt_number": 17
    }, 
    {
     "cell_type": "code", 
     "collapsed": true, 
     "input": [], 
     "language": "python", 
     "outputs": []
    }
   ]
  }
 ]
}