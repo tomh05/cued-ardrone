{
 "metadata": {
  "name": "roll2-analysis-0-3-multmarkers-2-altctrl"
 }, 
 "nbformat": 2, 
 "worksheets": [
  {
   "cells": [
    {
     "cell_type": "code", 
     "collapsed": false, 
     "input": [
      "import roslib; roslib.load_manifest('dynamics')", 
      "import rospy", 
      "", 
      "from dynamics.msg import Navdata", 
      "from dynamics.srv import CamSelect", 
      "from geometry_msgs.msg import Twist", 
      "from std_msgs.msg import Empty, UInt8", 
      "", 
      "from time import time, sleep", 
      "import sys", 
      "from numpy import pi", 
      "import numpy as np", 
      "import pickle", 
      "fp = open('roll2_0_3_multmarkers_2_altctrl.pkl','r')", 
      "rd=pickle.load(fp)", 
      "fp.close()", 
      "", 
      "import pylab as pl", 
      "pl.plot(rd[0]['tm'], rd[0]['vy']); pl.grid(True); pl.show()", 
      "", 
      "roll=0.3", 
      "rtm=rd[0]['tm']", 
      "rph=rd[0]['ph']", 
      "rvy=rd[0]['vy']", 
      "print len(rtm), len(rph), len(rvy)"
     ], 
     "language": "python", 
     "outputs": [
      {
       "output_type": "stream", 
       "stream": "stdout", 
       "text": [
        "208 208 208"
       ]
      }
     ], 
     "prompt_number": 3
    }, 
    {
     "cell_type": "code", 
     "collapsed": false, 
     "input": [
      "#get the necessary matrices", 
      "#try 12 - 13.5 seconds", 
      "l=0; t=[]; cmd=[]; ph=[]; vy=[]", 
      "for i in range(len(rtm)):", 
      "    ", 
      "    if (rtm[i] > 12.0 and rtm[i] < 13.5):", 
      "        cmd.append(-roll)", 
      "        ph.append(-rph[i])", 
      "        vy.append(rvy[i])", 
      "        t.append(rtm[i])", 
      "        l=l+1", 
      "    ", 
      "    elif (rtm[i] > 13.5 and rtm[i] < 16.5):", 
      "        cmd.append(roll)", 
      "        ph.append(-rph[i])", 
      "        vy.append(rvy[i])", 
      "        t.append(rtm[i])", 
      "        l=l+1", 
      "    '''", 
      "    elif (rtm[i] > 16.5 and rtm[i] < 17.5):", 
      "        cmd.append(-roll)", 
      "        ph.append(-rph[i])", 
      "        vy.append(rvy[i])", 
      "        t.append(rtm[i])", 
      "        l=l+1", 
      "    ", 
      "    '''", 
      "", 
      "pl.plot(t,ph); pl.grid(True); pl.show()", 
      "#print l", 
      "ph0=ph[0:-1]", 
      "ph1=ph[1:]", 
      "r0=cmd[0:-1]", 
      "vy0=vy[0:-1]", 
      "vy1=vy[1:]", 
      "ll=l-1", 
      "print len(ph0), len(ph1), len(r0), len(vy0), len(vy1)", 
      "#pl.plot(t,[0]+ph1); pl.show()", 
      "#pl.plot(t,ph1+[0]); pl.show()", 
      "#print ph0"
     ], 
     "language": "python", 
     "outputs": [
      {
       "output_type": "stream", 
       "stream": "stdout", 
       "text": [
        "69 69 69 69 69"
       ]
      }
     ], 
     "prompt_number": 5
    }, 
    {
     "cell_type": "code", 
     "collapsed": false, 
     "input": [
      "#do least squares using numpy.linalg.lstsq for rollcmd -> roll", 
      "_a0=np.array(ph0)", 
      "_a1=np.array(r0)", 
      "_A = np.vstack([_a0, _a1]).T", 
      "_y=np.array(ph1)", 
      "[c1, c0], res = np.linalg.lstsq(_A, _y)[0:2]", 
      "devro=np.sqrt(res/ll)", 
      "print [c1, c0], devro"
     ], 
     "language": "python", 
     "outputs": [
      {
       "output_type": "stream", 
       "stream": "stdout", 
       "text": [
        "[0.86729679811992988, 4.1900660049769565] [ 0.89732443]"
       ]
      }
     ], 
     "prompt_number": 6
    }, 
    {
     "cell_type": "code", 
     "collapsed": false, 
     "input": [
      "#do least squares for roll -> vy", 
      "_a0=np.array(vy0)", 
      "_a1=np.array(ph0)", 
      "_A = np.vstack([_a0, _a1]).T", 
      "_y=np.array(vy1)", 
      "[c3, c2], res = np.linalg.lstsq(_A, _y)[0:2]", 
      "devvy=np.sqrt(res/ll)", 
      "print [c3, c2], devvy"
     ], 
     "language": "python", 
     "outputs": [
      {
       "output_type": "stream", 
       "stream": "stdout", 
       "text": [
        "[0.95098198264677414, 11.850300413511995] [ 27.88376202]"
       ]
      }
     ], 
     "prompt_number": 7
    }, 
    {
     "cell_type": "code", 
     "collapsed": true, 
     "input": [], 
     "language": "python", 
     "outputs": []
    }
   ]
  }
 ]
}