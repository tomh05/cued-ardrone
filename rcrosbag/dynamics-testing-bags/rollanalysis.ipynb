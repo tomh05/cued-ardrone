{
 "metadata": {
  "name": "rollanalysis"
 }, 
 "nbformat": 2, 
 "worksheets": [
  {
   "cells": [
    {
     "cell_type": "code", 
     "collapsed": false, 
     "input": [
      "import roslib; roslib.load_manifest('dynamics')", 
      "import rospy", 
      "", 
      "from dynamics.msg import Navdata", 
      "from dynamics.srv import CamSelect", 
      "from geometry_msgs.msg import Twist", 
      "from std_msgs.msg import Empty, UInt8", 
      "", 
      "from time import time, sleep", 
      "import sys", 
      "from numpy import pi", 
      "", 
      "import pickle", 
      "fp = open('roll_0_2_altctrl3.pkl','r')", 
      "rd=pickle.load(fp)", 
      "", 
      "rd[1]['tm'][-1]", 
      "", 
      "import pylab as pl", 
      "pl.plot(rd[0]['tm'], rd[0]['vy'])", 
      "pl.show()"
     ], 
     "language": "python", 
     "outputs": [], 
     "prompt_number": 19
    }, 
    {
     "cell_type": "code", 
     "collapsed": false, 
     "input": [], 
     "language": "python", 
     "outputs": [], 
     "prompt_number": 17
    }, 
    {
     "cell_type": "code", 
     "collapsed": true, 
     "input": [], 
     "language": "python", 
     "outputs": []
    }
   ]
  }
 ]
}