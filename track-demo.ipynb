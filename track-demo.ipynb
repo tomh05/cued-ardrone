{
 "metadata": {
  "name": "track-demo"
 }, 
 "name": "track-demo", 
 "nbformat": 2, 
 "worksheets": [
  {
   "cells": [
    {
     "cell_type": "markdown", 
     "source": [
      "# Detect features", 
      "", 
      "Firstly, load OpenCV", 
      "", 
      "$$ x = \\frac{x}{\\sin(x)} + \\int_0^{2\\pi} \\psi(t) dt $$"
     ]
    }, 
    {
     "cell_type": "code", 
     "collapsed": true, 
     "input": [
      "import cv2", 
      "import cv"
     ], 
     "language": "python", 
     "outputs": [], 
     "prompt_number": 32
    }, 
    {
     "cell_type": "code", 
     "collapsed": true, 
     "input": [
      "img1 = cv2.imread('/home/alex/bags/103.jpg')", 
      "img2 = cv2.imread('/home/alex/bags/104.jpg')"
     ], 
     "language": "python", 
     "outputs": [], 
     "prompt_number": 33
    }, 
    {
     "cell_type": "code", 
     "collapsed": false, 
     "input": [
      "i1 = cv2.cvtColor(img1, cv2.COLOR_BGR2GRAY)", 
      "i2 = cv2.cvtColor(img2, cv2.COLOR_BGR2GRAY)"
     ], 
     "language": "python", 
     "outputs": [], 
     "prompt_number": 34
    }, 
    {
     "cell_type": "code", 
     "collapsed": true, 
     "input": [
      "fd = cv2.FeatureDetector_create('SIFT')"
     ], 
     "language": "python", 
     "outputs": [], 
     "prompt_number": 35
    }, 
    {
     "cell_type": "code", 
     "collapsed": false, 
     "input": [
      "pts1 = fd.detect(i1)", 
      "pts2 = fd.detect(i2)"
     ], 
     "language": "python", 
     "outputs": [], 
     "prompt_number": 36
    }, 
    {
     "cell_type": "code", 
     "collapsed": true, 
     "input": [
      "de = cv2.DescriptorExtractor_create('SIFT')"
     ], 
     "language": "python", 
     "outputs": [], 
     "prompt_number": 43
    }, 
    {
     "cell_type": "code", 
     "collapsed": false, 
     "input": [
      "kp1, desc1 = de.compute(i1, pts1)", 
      "kp2, desc2 = de.compute(i2, pts2)"
     ], 
     "language": "python", 
     "outputs": [], 
     "prompt_number": 46
    }, 
    {
     "cell_type": "code", 
     "collapsed": true, 
     "input": [
      "dm = cv2.DescriptorMatcher_create('BruteForce')"
     ], 
     "language": "python", 
     "outputs": [], 
     "prompt_number": 51
    }, 
    {
     "cell_type": "code", 
     "collapsed": false, 
     "input": [
      "matches = dm.match(desc1, desc2)"
     ], 
     "language": "python", 
     "outputs": [], 
     "prompt_number": 53
    }, 
    {
     "cell_type": "code", 
     "collapsed": true, 
     "input": [
      "i1_indices = list(x.queryIdx for x in matches)", 
      "i2_indices = list(x.trainIdx for x in matches)"
     ], 
     "language": "python", 
     "outputs": [], 
     "prompt_number": 56
    }, 
    {
     "cell_type": "code", 
     "collapsed": false, 
     "input": [
      "kp1_array = np.array(list(x.pt for x in kp1))", 
      "kp2_array = np.array(list(x.pt for x in kp2))", 
      "", 
      "i1_pts = kp1_array[i1_indices,:]", 
      "i2_pts = kp2_array[i2_indices,:]"
     ], 
     "language": "python", 
     "outputs": [], 
     "prompt_number": 61
    }, 
    {
     "cell_type": "code", 
     "collapsed": false, 
     "input": [
      "clf()", 
      "imshow(np.vstack((i1, i2)), cmap='gray')", 
      "imh = i1.shape[0]", 
      "for p1, p2 in zip(i1_pts, i2_pts):", 
      "    plot([p1[0], p2[0]], [p1[1], p2[1] + imh])", 
      "axis('image')"
     ], 
     "language": "python", 
     "outputs": [
      {
       "output_type": "pyout", 
       "prompt_number": 67, 
       "text": [
        "(-0.5, 639.5, 719.5, -0.5)"
       ]
      }
     ], 
     "prompt_number": 67
    }, 
    {
     "cell_type": "code", 
     "collapsed": false, 
     "input": [
      "H, mask = cv2.findHomography(i1_pts, i2_pts, cv2.RANSAC)"
     ], 
     "language": "python", 
     "outputs": [], 
     "prompt_number": 71
    }, 
    {
     "cell_type": "code", 
     "collapsed": false, 
     "input": [
      "ml = list(mask.flat)"
     ], 
     "language": "python", 
     "outputs": [], 
     "prompt_number": 84
    }, 
    {
     "cell_type": "code", 
     "collapsed": false, 
     "input": [
      "clf()", 
      "imshow(np.vstack((i1, i2)), cmap='gray')", 
      "imh = i1.shape[0]", 
      "idx = 0", 
      "for p1, p2 in zip(i1_pts, i2_pts):", 
      "    idx += 1", 
      "    if ml[idx - 1] == 0:", 
      "        continue", 
      "    plot([p1[0], p2[0]], [p1[1], p2[1] + imh])", 
      "", 
      "axis('image')"
     ], 
     "language": "python", 
     "outputs": [
      {
       "output_type": "pyout", 
       "prompt_number": 88, 
       "text": [
        "(-0.5, 639.5, 719.5, -0.5)"
       ]
      }
     ], 
     "prompt_number": 88
    }, 
    {
     "cell_type": "code", 
     "collapsed": false, 
     "input": [
      "points1 = np.array(list(x.pt for x in kp1))", 
      "points2 = np.array(list(x.pt for x in kp2))"
     ], 
     "language": "python", 
     "outputs": [], 
     "prompt_number": 49
    }, 
    {
     "cell_type": "code", 
     "collapsed": false, 
     "input": [
      "clf()", 
      "#imshow(grey, cmap='gray')", 
      "imshow(np.vstack((i1, i2)))", 
      "plot(points1[:,0], points1[:,1], 'xr')", 
      "plot(points2[:,0], points2[:,1], 'xb')", 
      "axis('image')"
     ], 
     "language": "python", 
     "outputs": [
      {
       "output_type": "pyout", 
       "prompt_number": 50, 
       "text": [
        "(5.7200784683227539, 633.29345703125, 4.9844107627868652, 347.35214233398438)"
       ]
      }
     ], 
     "prompt_number": 50
    }, 
    {
     "cell_type": "code", 
     "collapsed": false, 
     "input": [
      "imshow(np.vstack((img1, img2)))"
     ], 
     "language": "python", 
     "outputs": [
      {
       "output_type": "pyout", 
       "prompt_number": 64, 
       "text": [
        "<matplotlib.image.AxesImage at 0x5dd7510>"
       ]
      }
     ], 
     "prompt_number": 64
    }, 
    {
     "cell_type": "code", 
     "collapsed": false, 
     "input": [
      "class Memoriser:", 
      "    def __init__(self):", 
      "        self.previous = None", 
      "    ", 
      "    def new_thing(self, thing):", 
      "        print('Now: %s' % (thing,))", 
      "        print('Previous: %s' % (self.previous))", 
      "        self.previous = thing", 
      "        ", 
      "", 
      "m = Memoriser()", 
      "m.new_thing('hello')", 
      "m.new_thing(3)", 
      "m.new_thing(67)"
     ], 
     "language": "python", 
     "outputs": [
      {
       "output_type": "stream", 
       "stream": "stdout", 
       "text": [
        "Now: hello", 
        "Previous: None", 
        "Now: 3", 
        "Previous: hello", 
        "Now: 67", 
        "Previous: 3"
       ]
      }
     ], 
     "prompt_number": 89
    }, 
    {
     "cell_type": "code", 
     "collapsed": true, 
     "input": [
      "f = m.new_thing"
     ], 
     "language": "python", 
     "outputs": [], 
     "prompt_number": 90
    }, 
    {
     "cell_type": "code", 
     "collapsed": false, 
     "input": [
      "f(5)"
     ], 
     "language": "python", 
     "outputs": [
      {
       "output_type": "stream", 
       "stream": "stdout", 
       "text": [
        "Now: 5", 
        "Previous: 67"
       ]
      }
     ], 
     "prompt_number": 91
    }, 
    {
     "cell_type": "code", 
     "collapsed": true, 
     "input": [], 
     "language": "python", 
     "outputs": []
    }
   ]
  }
 ]
}